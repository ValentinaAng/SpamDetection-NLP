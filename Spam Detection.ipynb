{
 "cells": [
  {
   "cell_type": "markdown",
   "id": "5431e09d",
   "metadata": {},
   "source": [
    "# Simple Spam Detection Project\n",
    "\n",
    "\n",
    "### About Dataset:\n",
    "\n",
    "This dataset consists of 5,573 emails, each labeled as either spam or ham (not spam). The dataset is available on Kaggle. \n",
    "\n",
    "The goal of this project is to preprocess the text data and explore various approaches to build an effective spam detection model.\n",
    "\n",
    "_______________"
   ]
  },
  {
   "cell_type": "markdown",
   "id": "348a0ef1",
   "metadata": {},
   "source": [
    "## Load Libraries"
   ]
  },
  {
   "cell_type": "code",
   "execution_count": 1,
   "id": "4ae9588b",
   "metadata": {},
   "outputs": [
    {
     "name": "stderr",
     "output_type": "stream",
     "text": [
      "[nltk_data] Downloading package averaged_perceptron_tagger to\n",
      "[nltk_data]     C:\\Users\\Dell\\AppData\\Roaming\\nltk_data...\n",
      "[nltk_data]   Package averaged_perceptron_tagger is already up-to-\n",
      "[nltk_data]       date!\n"
     ]
    },
    {
     "data": {
      "text/plain": [
       "True"
      ]
     },
     "execution_count": 1,
     "metadata": {},
     "output_type": "execute_result"
    }
   ],
   "source": [
    "import pandas as pd\n",
    "import numpy as np\n",
    "import matplotlib.pyplot as plt\n",
    "import seaborn as sns\n",
    "import tqdm\n",
    "import nltk\n",
    "import re\n",
    "import string\n",
    "import joblib\n",
    "from collections import Counter\n",
    "\n",
    "from nltk.corpus import wordnet, stopwords\n",
    "from nltk.tokenize import word_tokenize, WordPunctTokenizer, sent_tokenize, PunktSentenceTokenizer\n",
    "from nltk.stem import PorterStemmer, WordNetLemmatizer\n",
    "from nltk.tag import pos_tag\n",
    "\n",
    "from sklearn.feature_extraction.text import CountVectorizer, TfidfVectorizer\n",
    "from sklearn.model_selection import train_test_split, KFold, GridSearchCV\n",
    "from sklearn.preprocessing import LabelEncoder\n",
    "\n",
    "from sklearn.linear_model import LogisticRegression\n",
    "from sklearn.svm import SVC\n",
    "from sklearn.naive_bayes import GaussianNB, MultinomialNB\n",
    "from sklearn.ensemble import RandomForestClassifier\n",
    "\n",
    "from sklearn.metrics import confusion_matrix, accuracy_score, f1_score, precision_score, recall_score, make_scorer\n",
    "\n",
    "\n",
    "nltk.download(\"averaged_perceptron_tagger\")"
   ]
  },
  {
   "cell_type": "markdown",
   "id": "be31be6f",
   "metadata": {},
   "source": [
    "## Load Dataset"
   ]
  },
  {
   "cell_type": "code",
   "execution_count": 2,
   "id": "90fb1ff5",
   "metadata": {},
   "outputs": [
    {
     "data": {
      "text/html": [
       "<div>\n",
       "<style scoped>\n",
       "    .dataframe tbody tr th:only-of-type {\n",
       "        vertical-align: middle;\n",
       "    }\n",
       "\n",
       "    .dataframe tbody tr th {\n",
       "        vertical-align: top;\n",
       "    }\n",
       "\n",
       "    .dataframe thead th {\n",
       "        text-align: right;\n",
       "    }\n",
       "</style>\n",
       "<table border=\"1\" class=\"dataframe\">\n",
       "  <thead>\n",
       "    <tr style=\"text-align: right;\">\n",
       "      <th></th>\n",
       "      <th>is_spam</th>\n",
       "      <th>text</th>\n",
       "    </tr>\n",
       "  </thead>\n",
       "  <tbody>\n",
       "    <tr>\n",
       "      <th>0</th>\n",
       "      <td>ham</td>\n",
       "      <td>Go until jurong point, crazy.. Available only ...</td>\n",
       "    </tr>\n",
       "    <tr>\n",
       "      <th>1</th>\n",
       "      <td>ham</td>\n",
       "      <td>Ok lar... Joking wif u oni...</td>\n",
       "    </tr>\n",
       "    <tr>\n",
       "      <th>2</th>\n",
       "      <td>spam</td>\n",
       "      <td>Free entry in 2 a wkly comp to win FA Cup fina...</td>\n",
       "    </tr>\n",
       "    <tr>\n",
       "      <th>3</th>\n",
       "      <td>ham</td>\n",
       "      <td>U dun say so early hor... U c already then say...</td>\n",
       "    </tr>\n",
       "    <tr>\n",
       "      <th>4</th>\n",
       "      <td>ham</td>\n",
       "      <td>Nah I don't think he goes to usf, he lives aro...</td>\n",
       "    </tr>\n",
       "  </tbody>\n",
       "</table>\n",
       "</div>"
      ],
      "text/plain": [
       "  is_spam                                               text\n",
       "0     ham  Go until jurong point, crazy.. Available only ...\n",
       "1     ham                   Ok lar... Joking wif u oni...   \n",
       "2    spam  Free entry in 2 a wkly comp to win FA Cup fina...\n",
       "3     ham  U dun say so early hor... U c already then say...\n",
       "4     ham  Nah I don't think he goes to usf, he lives aro..."
      ]
     },
     "execution_count": 2,
     "metadata": {},
     "output_type": "execute_result"
    }
   ],
   "source": [
    "# Load dataset\n",
    "df = pd.read_csv('datasets-spam.csv', encoding = 'latin-1')\n",
    "\n",
    "# concat text in one column\n",
    "df['v2'] = df['v2'] + ' ' + df['Unnamed: 2'].fillna('') + ' ' + df['Unnamed: 3'].fillna('') + ' ' + df['Unnamed: 4'].fillna('')\n",
    "\n",
    "# drop remaining columns\n",
    "df.drop(columns=['Unnamed: 2', 'Unnamed: 3', 'Unnamed: 4'], inplace=True)\n",
    "\n",
    "#rename\n",
    "df.rename(columns={'v1': 'is_spam', 'v2': 'text'}, inplace=True)\n",
    "\n",
    "df.head()"
   ]
  },
  {
   "cell_type": "markdown",
   "id": "e8ab209b",
   "metadata": {},
   "source": [
    "## Analysis"
   ]
  },
  {
   "cell_type": "code",
   "execution_count": 3,
   "id": "6486fe06",
   "metadata": {},
   "outputs": [
    {
     "data": {
      "text/plain": [
       "(5572, 2)"
      ]
     },
     "execution_count": 3,
     "metadata": {},
     "output_type": "execute_result"
    }
   ],
   "source": [
    "# Shape\n",
    "df.shape"
   ]
  },
  {
   "cell_type": "code",
   "execution_count": 4,
   "id": "8b43a1b0",
   "metadata": {},
   "outputs": [
    {
     "name": "stdout",
     "output_type": "stream",
     "text": [
      "<class 'pandas.core.frame.DataFrame'>\n",
      "RangeIndex: 5572 entries, 0 to 5571\n",
      "Data columns (total 2 columns):\n",
      " #   Column   Non-Null Count  Dtype \n",
      "---  ------   --------------  ----- \n",
      " 0   is_spam  5572 non-null   object\n",
      " 1   text     5572 non-null   object\n",
      "dtypes: object(2)\n",
      "memory usage: 87.2+ KB\n"
     ]
    }
   ],
   "source": [
    "# Info\n",
    "df.info()"
   ]
  },
  {
   "cell_type": "code",
   "execution_count": 5,
   "id": "c149a66f",
   "metadata": {},
   "outputs": [
    {
     "name": "stdout",
     "output_type": "stream",
     "text": [
      "There are 0 missing values\n"
     ]
    }
   ],
   "source": [
    "# Missing values and duplicates\n",
    "print(f'There are {df.isna().sum().sum()} missing values')"
   ]
  },
  {
   "cell_type": "code",
   "execution_count": 6,
   "id": "ac8e6d82",
   "metadata": {},
   "outputs": [
    {
     "name": "stdout",
     "output_type": "stream",
     "text": [
      "There are 403 duplicates in this dataset\n",
      "\n"
     ]
    },
    {
     "data": {
      "text/html": [
       "<div>\n",
       "<style scoped>\n",
       "    .dataframe tbody tr th:only-of-type {\n",
       "        vertical-align: middle;\n",
       "    }\n",
       "\n",
       "    .dataframe tbody tr th {\n",
       "        vertical-align: top;\n",
       "    }\n",
       "\n",
       "    .dataframe thead th {\n",
       "        text-align: right;\n",
       "    }\n",
       "</style>\n",
       "<table border=\"1\" class=\"dataframe\">\n",
       "  <thead>\n",
       "    <tr style=\"text-align: right;\">\n",
       "      <th></th>\n",
       "      <th>is_spam</th>\n",
       "      <th>text</th>\n",
       "    </tr>\n",
       "  </thead>\n",
       "  <tbody>\n",
       "    <tr>\n",
       "      <th>102</th>\n",
       "      <td>ham</td>\n",
       "      <td>As per your request 'Melle Melle (Oru Minnamin...</td>\n",
       "    </tr>\n",
       "    <tr>\n",
       "      <th>153</th>\n",
       "      <td>ham</td>\n",
       "      <td>As per your request 'Melle Melle (Oru Minnamin...</td>\n",
       "    </tr>\n",
       "    <tr>\n",
       "      <th>206</th>\n",
       "      <td>ham</td>\n",
       "      <td>As I entered my cabin my PA said, '' Happy B'd...</td>\n",
       "    </tr>\n",
       "    <tr>\n",
       "      <th>222</th>\n",
       "      <td>ham</td>\n",
       "      <td>Sorry, I'll call later</td>\n",
       "    </tr>\n",
       "    <tr>\n",
       "      <th>325</th>\n",
       "      <td>ham</td>\n",
       "      <td>No calls..messages..missed calls</td>\n",
       "    </tr>\n",
       "    <tr>\n",
       "      <th>...</th>\n",
       "      <td>...</td>\n",
       "      <td>...</td>\n",
       "    </tr>\n",
       "    <tr>\n",
       "      <th>5524</th>\n",
       "      <td>spam</td>\n",
       "      <td>You are awarded a SiPix Digital Camera! call 0...</td>\n",
       "    </tr>\n",
       "    <tr>\n",
       "      <th>5535</th>\n",
       "      <td>ham</td>\n",
       "      <td>I know you are thinkin malaria. But relax, chi...</td>\n",
       "    </tr>\n",
       "    <tr>\n",
       "      <th>5539</th>\n",
       "      <td>ham</td>\n",
       "      <td>Just sleeping..and surfing</td>\n",
       "    </tr>\n",
       "    <tr>\n",
       "      <th>5553</th>\n",
       "      <td>ham</td>\n",
       "      <td>Hahaha..use your brain dear</td>\n",
       "    </tr>\n",
       "    <tr>\n",
       "      <th>5558</th>\n",
       "      <td>ham</td>\n",
       "      <td>Sorry, I'll call later</td>\n",
       "    </tr>\n",
       "  </tbody>\n",
       "</table>\n",
       "<p>403 rows × 2 columns</p>\n",
       "</div>"
      ],
      "text/plain": [
       "     is_spam                                               text\n",
       "102      ham  As per your request 'Melle Melle (Oru Minnamin...\n",
       "153      ham  As per your request 'Melle Melle (Oru Minnamin...\n",
       "206      ham  As I entered my cabin my PA said, '' Happy B'd...\n",
       "222      ham                          Sorry, I'll call later   \n",
       "325      ham                No calls..messages..missed calls   \n",
       "...      ...                                                ...\n",
       "5524    spam  You are awarded a SiPix Digital Camera! call 0...\n",
       "5535     ham  I know you are thinkin malaria. But relax, chi...\n",
       "5539     ham                      Just sleeping..and surfing   \n",
       "5553     ham                     Hahaha..use your brain dear   \n",
       "5558     ham                          Sorry, I'll call later   \n",
       "\n",
       "[403 rows x 2 columns]"
      ]
     },
     "execution_count": 6,
     "metadata": {},
     "output_type": "execute_result"
    }
   ],
   "source": [
    "# Duplicates\n",
    "print(f'There are {df.duplicated().sum()} duplicates in this dataset\\n')\n",
    "\n",
    "df[df.duplicated(subset='text')]"
   ]
  },
  {
   "cell_type": "code",
   "execution_count": 7,
   "id": "76da4693",
   "metadata": {},
   "outputs": [
    {
     "data": {
      "image/png": "[encoded data removed]",
      "text/plain": [
       "<Figure size 800x500 with 1 Axes>"
      ]
     },
     "metadata": {},
     "output_type": "display_data"
    }
   ],
   "source": [
    "# Lets visualize targets counts\n",
    "targets_counts = df['is_spam'].value_counts()\n",
    "# print(targets_counts)\n",
    "\n",
    "# Plot\n",
    "plt.figure(figsize = (8,5))\n",
    "sns.set_style('darkgrid')\n",
    "\n",
    "sns.barplot(x = targets_counts.index, y = targets_counts.values, palette='YlGn')\n",
    "plt.title('Targets Distribution')\n",
    "plt.legend(['ham', 'spam'])\n",
    "plt.xlabel('Targets')\n",
    "plt.ylabel('Counts')\n",
    "\n",
    "# show\n",
    "plt.show()"
   ]
  },
  {
   "cell_type": "markdown",
   "id": "e83b41ed",
   "metadata": {},
   "source": [
    "### Conclusion from Analysis:\n",
    "- **Dataset Overview**: Contains 5,572 text entries, categorized as **spam** or **ham** (non-spam).\n",
    "\n",
    "- **Missing Values**: The dataset is free of missing values.\n",
    "\n",
    "- **Duplicates**: There are duplicate entries, which will be addressed after text preprocessing.\n",
    "\n",
    "- **Class Imbalance**: The dataset exhibits a class imbalance. While text data augmentation could be a solution, the initial strategy will involve improving model performance to manage the imbalance effectively.\n",
    "\n",
    "_______________\n"
   ]
  },
  {
   "cell_type": "markdown",
   "id": "5823fc3f",
   "metadata": {},
   "source": [
    "## Text Preprocessing"
   ]
  },
  {
   "cell_type": "code",
   "execution_count": 8,
   "id": "bf119f09",
   "metadata": {},
   "outputs": [],
   "source": [
    "# Defininf pos tags function (Part of speech tags)\n",
    "def get_pos_tags(tag): \n",
    "    if tag.startswith(\"N\"):\n",
    "        return wordnet.NOUN\n",
    "    if tag.startswith(\"J\"):\n",
    "        return wordnet.ADJ\n",
    "    if tag.startswith(\"V\"):\n",
    "        return wordnet.VERB\n",
    "    if tag.startswith(\"R\"):\n",
    "        return wordnet.ADV\n",
    "    return wordnet.NOUN"
   ]
  },
  {
   "cell_type": "code",
   "execution_count": 9,
   "id": "ed54a7b1",
   "metadata": {},
   "outputs": [],
   "source": [
    "# Preprocess Text\n",
    "\n",
    "def preprocess_text(text):\n",
    "    \n",
    "    # lowercase\n",
    "    text = text.lower()\n",
    "    \n",
    "    # remove punctuations\n",
    "    text = text.translate(str.maketrans('','', string.punctuation))\n",
    "    \n",
    "    # tokenize\n",
    "    tokens = word_tokenize(text)\n",
    "    \n",
    "    # remove stopwords and words with length lower than 3\n",
    "    stop_words = set(stopwords.words('english'))\n",
    "    words = [word for word in tokens if word not in stop_words and len(word) > 3]\n",
    "    \n",
    "    # Lemmatization\n",
    "    lemma = WordNetLemmatizer()\n",
    "    words = [lemma.lemmatize(word,pos=get_pos_tags(nltk.pos_tag(['working'])[0][1])) for word in words]\n",
    "    \n",
    "    # final\n",
    "    texts = ' '.join(words)\n",
    "    \n",
    "    return texts"
   ]
  },
  {
   "cell_type": "code",
   "execution_count": 10,
   "id": "9724b7dc",
   "metadata": {},
   "outputs": [
    {
     "name": "stderr",
     "output_type": "stream",
     "text": [
      "100%|██████████| 5572/5572 [00:36<00:00, 153.54it/s]\n"
     ]
    }
   ],
   "source": [
    "# Apply function\n",
    "\n",
    "# Make copy of original df\n",
    "data = df.copy()\n",
    "\n",
    "tqdm.tqdm.pandas()\n",
    "data['text'] = data['text'].progress_apply(preprocess_text)"
   ]
  },
  {
   "cell_type": "code",
   "execution_count": 11,
   "id": "3d83d2b7",
   "metadata": {},
   "outputs": [
    {
     "name": "stdout",
     "output_type": "stream",
     "text": [
      "Unprocessed text: Nah I don't think he goes to usf, he lives around here though    \n",
      "\n",
      "Processed text: dont think go live around though\n"
     ]
    }
   ],
   "source": [
    "print('Unprocessed text:', df['text'][4], '\\n')\n",
    "print('Processed text:', data['text'][4])"
   ]
  },
  {
   "cell_type": "markdown",
   "id": "abe3f747",
   "metadata": {},
   "source": [
    "**Note: we can see that these text are written in evryday language**"
   ]
  },
  {
   "cell_type": "markdown",
   "id": "474e7245",
   "metadata": {},
   "source": [
    "## Splitting Dataset"
   ]
  },
  {
   "cell_type": "code",
   "execution_count": 12,
   "id": "32b482dc",
   "metadata": {},
   "outputs": [],
   "source": [
    "# Split on labels and text\n",
    "texts = data['text']\n",
    "labels = data['is_spam']"
   ]
  },
  {
   "cell_type": "code",
   "execution_count": 13,
   "id": "8e8ab905",
   "metadata": {},
   "outputs": [
    {
     "name": "stdout",
     "output_type": "stream",
     "text": [
      "[0 0 1 ... 0 0 0]\n"
     ]
    }
   ],
   "source": [
    "# Encoding Targets\n",
    "le = LabelEncoder()\n",
    "\n",
    "labels = le.fit_transform(labels)\n",
    "\n",
    "print(labels) # 0 for ham, 1 for spam"
   ]
  },
  {
   "cell_type": "code",
   "execution_count": 14,
   "id": "5972ca9a",
   "metadata": {},
   "outputs": [
    {
     "name": "stdout",
     "output_type": "stream",
     "text": [
      "Train Shape: (4457,) (4457,)\n",
      "Test Shape: (1115,) (1115,)\n"
     ]
    }
   ],
   "source": [
    "# Splitting on train and test\n",
    "X_train,X_test,y_train,y_test = train_test_split(texts,labels, shuffle=True, stratify=labels,\n",
    "                                                 random_state = 42,\n",
    "                                                 test_size = 0.2)\n",
    "\n",
    "# Shapes\n",
    "print('Train Shape:', X_train.shape, y_train.shape)\n",
    "print('Test Shape:', X_test.shape, y_test.shape)"
   ]
  },
  {
   "cell_type": "code",
   "execution_count": 15,
   "id": "94b70beb",
   "metadata": {},
   "outputs": [
    {
     "name": "stdout",
     "output_type": "stream",
     "text": [
      "Train: Counter({0: 3859, 1: 598})\n",
      "Test: Counter({0: 966, 1: 149})\n"
     ]
    }
   ],
   "source": [
    "# Labels counter\n",
    "print('Train:', Counter(y_train))\n",
    "print('Test:', Counter(y_test))"
   ]
  },
  {
   "cell_type": "markdown",
   "id": "aeea1b31",
   "metadata": {},
   "source": [
    "## Feature Extraction"
   ]
  },
  {
   "cell_type": "code",
   "execution_count": 16,
   "id": "163ddf0a",
   "metadata": {},
   "outputs": [
    {
     "name": "stdout",
     "output_type": "stream",
     "text": [
      "Shape: (4457, 6589)\n"
     ]
    }
   ],
   "source": [
    "# CountVectorizer (BOW)\n",
    "bow = CountVectorizer(min_df=1)\n",
    "\n",
    "# fit\n",
    "# bow.fit(data)\n",
    "X_train_bow = bow.fit_transform(X_train)\n",
    "X_test_bow = bow.transform(X_test)\n",
    "\n",
    "# shapes\n",
    "print('Shape:', X_train_bow.shape)"
   ]
  },
  {
   "cell_type": "code",
   "execution_count": 17,
   "id": "7f760708",
   "metadata": {},
   "outputs": [
    {
     "name": "stdout",
     "output_type": "stream",
     "text": [
      "Shape: (4457, 6589)\n"
     ]
    }
   ],
   "source": [
    "# Tf-IDF \n",
    "\n",
    "tfidf = TfidfVectorizer(min_df=1)\n",
    "\n",
    "# fit\n",
    "X_train_tfidf = tfidf.fit_transform(X_train)\n",
    "X_test_tfidf = tfidf.transform(X_test)\n",
    "\n",
    "# shapes\n",
    "print('Shape:', X_train_tfidf.shape)"
   ]
  },
  {
   "cell_type": "markdown",
   "id": "b975c5cd",
   "metadata": {},
   "source": [
    "**Note: because number of features is higher than the number of instances, using min_df will help. I will try both approaches and see if something changes**"
   ]
  },
  {
   "cell_type": "markdown",
   "id": "21856256",
   "metadata": {},
   "source": [
    "## Model Training and Evaluating"
   ]
  },
  {
   "cell_type": "markdown",
   "id": "b45b660e",
   "metadata": {},
   "source": [
    "#### Using models with default parameters"
   ]
  },
  {
   "cell_type": "code",
   "execution_count": 18,
   "id": "eabd28c8",
   "metadata": {},
   "outputs": [],
   "source": [
    "# Define models\n",
    "lr = LogisticRegression(random_state=42)\n",
    "rf = RandomForestClassifier(random_state=42)\n",
    "svc = SVC(random_state=42)\n",
    "gaussian = MultinomialNB()\n",
    "\n",
    "models = [lr, rf, svc, gaussian]\n",
    "model_names = ['lr', 'rf', 'svc', 'gaussian']"
   ]
  },
  {
   "cell_type": "code",
   "execution_count": 19,
   "id": "a7d13aa1",
   "metadata": {},
   "outputs": [],
   "source": [
    "# Define function\n",
    "def train_model(model,model_name,X_train,y_train,X_test,y_test):\n",
    "    \n",
    "    results = []\n",
    "    \n",
    "    # fit\n",
    "    model.fit(X_train, y_train)\n",
    "    \n",
    "    # predict\n",
    "    y_predict = model.predict(X_test)\n",
    "    \n",
    "    # score\n",
    "    accuracy = accuracy_score(y_test,y_predict)\n",
    "    f1 = f1_score(y_test,y_predict)\n",
    "    recall = recall_score(y_test,y_predict)\n",
    "    precision = precision_score(y_test, y_predict)\n",
    "    \n",
    "    # append results\n",
    "    results.append({'model': model_name, \n",
    "                    'accuracy': accuracy, \n",
    "                    'f1':f1, \n",
    "                    'recall':recall, \n",
    "                    'precision':precision})\n",
    "    \n",
    "    # confusion matrix\n",
    "    cf = confusion_matrix(y_test,y_predict)\n",
    "\n",
    "    # Plot confusion matrix\n",
    "    plt.figure(figsize=(6, 3))\n",
    "    sns.heatmap(cf, annot=True, fmt='d', cmap='Blues', xticklabels=model.classes_, yticklabels=model.classes_)\n",
    "    plt.title(f'Confusion Matrix for {model_name}')\n",
    "    plt.xlabel('Predicted Label')\n",
    "    plt.ylabel('True Label')\n",
    "    plt.show()\n",
    "    \n",
    "    return results"
   ]
  },
  {
   "cell_type": "code",
   "execution_count": 20,
   "id": "f5275be8",
   "metadata": {},
   "outputs": [
    {
     "data": {
      "image/png": "[encoded data removed]",
      "text/plain": [
       "<Figure size 600x300 with 2 Axes>"
      ]
     },
     "metadata": {},
     "output_type": "display_data"
    },
    {
     "data": {
      "image/png": "[encoded data removed]",
      "text/plain": [
       "<Figure size 600x300 with 2 Axes>"
      ]
     },
     "metadata": {},
     "output_type": "display_data"
    },
    {
     "data": {
      "image/png": "[encoded data removed]",
      "text/plain": [
       "<Figure size 600x300 with 2 Axes>"
      ]
     },
     "metadata": {},
     "output_type": "display_data"
    },
    {
     "data": {
      "image/png": "[encoded data removed]",
      "text/plain": [
       "<Figure size 600x300 with 2 Axes>"
      ]
     },
     "metadata": {},
     "output_type": "display_data"
    },
    {
     "data": {
      "text/html": [
       "<div>\n",
       "<style scoped>\n",
       "    .dataframe tbody tr th:only-of-type {\n",
       "        vertical-align: middle;\n",
       "    }\n",
       "\n",
       "    .dataframe tbody tr th {\n",
       "        vertical-align: top;\n",
       "    }\n",
       "\n",
       "    .dataframe thead th {\n",
       "        text-align: right;\n",
       "    }\n",
       "</style>\n",
       "<table border=\"1\" class=\"dataframe\">\n",
       "  <thead>\n",
       "    <tr style=\"text-align: right;\">\n",
       "      <th></th>\n",
       "      <th>model</th>\n",
       "      <th>accuracy</th>\n",
       "      <th>f1</th>\n",
       "      <th>recall</th>\n",
       "      <th>precision</th>\n",
       "    </tr>\n",
       "  </thead>\n",
       "  <tbody>\n",
       "    <tr>\n",
       "      <th>0</th>\n",
       "      <td>lr</td>\n",
       "      <td>0.977578</td>\n",
       "      <td>0.908425</td>\n",
       "      <td>0.832215</td>\n",
       "      <td>1.000000</td>\n",
       "    </tr>\n",
       "    <tr>\n",
       "      <th>1</th>\n",
       "      <td>rf</td>\n",
       "      <td>0.965022</td>\n",
       "      <td>0.849421</td>\n",
       "      <td>0.738255</td>\n",
       "      <td>1.000000</td>\n",
       "    </tr>\n",
       "    <tr>\n",
       "      <th>2</th>\n",
       "      <td>svc</td>\n",
       "      <td>0.973991</td>\n",
       "      <td>0.892193</td>\n",
       "      <td>0.805369</td>\n",
       "      <td>1.000000</td>\n",
       "    </tr>\n",
       "    <tr>\n",
       "      <th>3</th>\n",
       "      <td>gaussian</td>\n",
       "      <td>0.980269</td>\n",
       "      <td>0.923611</td>\n",
       "      <td>0.892617</td>\n",
       "      <td>0.956835</td>\n",
       "    </tr>\n",
       "  </tbody>\n",
       "</table>\n",
       "</div>"
      ],
      "text/plain": [
       "      model  accuracy        f1    recall  precision\n",
       "0        lr  0.977578  0.908425  0.832215   1.000000\n",
       "1        rf  0.965022  0.849421  0.738255   1.000000\n",
       "2       svc  0.973991  0.892193  0.805369   1.000000\n",
       "3  gaussian  0.980269  0.923611  0.892617   0.956835"
      ]
     },
     "execution_count": 20,
     "metadata": {},
     "output_type": "execute_result"
    }
   ],
   "source": [
    "# For BOW\n",
    "\n",
    "# define list to store final results\n",
    "bow_results = []\n",
    "\n",
    "# Loop through every model and call the function\n",
    "for model, model_name in zip(models, model_names):\n",
    "    results = train_model(model, model_name, X_train_bow,y_train,X_test_bow,y_test)\n",
    "    bow_results.extend(results)\n",
    "\n",
    "# Display results\n",
    "bow_results_df = pd.DataFrame(bow_results)\n",
    "bow_results_df"
   ]
  },
  {
   "cell_type": "markdown",
   "id": "234692da",
   "metadata": {},
   "source": [
    "### Conclusion from Model Training using Count Vectorizer (Bag of Words)\n",
    "\n",
    "\n",
    "Based on the evaluation of the models, **MultinomialNB** stands out as the top performer with the following metrics:\n",
    "\n",
    "- **Accuracy:** 98%\n",
    "- **F1 Score:** 92.4%\n",
    "\n",
    "However, the confusion matrix indicates that **MultinomialNB** has some drawbacks, including:\n",
    "- **False Positives:** 6 emails incorrectly classified as spam\n",
    "- **False Negatives:** 16 emails incorrectly classified as not spam\n",
    "\n",
    "If minimizing false positives is a higher priority, **Logistic Regression** is the preferable model:\n",
    "\n",
    "- **Accuracy:** 97.7%\n",
    "- **F1 Score:** 90.8%\n",
    "- **False Positives:** 0\n",
    "- **False Negatives:** 25\n",
    "\n",
    "Although **Logistic Regression** has slightly lower accuracy and F1 score compared to **MultinomialNB**, it excels in avoiding false positives, making it a better choice for scenarios where reducing false spam detections is crucial.\n",
    "\n",
    "**Additional Notes:**\n",
    "- None of the models were hyper-tuned (i.e., default parameters were used).\n",
    "- An attempt was made to use `min_df=2` to reduce the number of instances. However, this adjustment led to worse predictions.\n"
   ]
  },
  {
   "cell_type": "markdown",
   "id": "7e8b193f",
   "metadata": {},
   "source": [
    "#### Using Tf-IDF"
   ]
  },
  {
   "cell_type": "code",
   "execution_count": 21,
   "id": "fad92638",
   "metadata": {},
   "outputs": [
    {
     "data": {
      "image/png": "[encoded data removed]",
      "text/plain": [
       "<Figure size 600x300 with 2 Axes>"
      ]
     },
     "metadata": {},
     "output_type": "display_data"
    },
    {
     "data": {
      "image/png": "[encoded data removed]",
      "text/plain": [
       "<Figure size 600x300 with 2 Axes>"
      ]
     },
     "metadata": {},
     "output_type": "display_data"
    },
    {
     "data": {
      "image/png": "[encoded data removed]",
      "text/plain": [
       "<Figure size 600x300 with 2 Axes>"
      ]
     },
     "metadata": {},
     "output_type": "display_data"
    },
    {
     "data": {
      "image/png": "[encoded data removed]",
      "text/plain": [
       "<Figure size 600x300 with 2 Axes>"
      ]
     },
     "metadata": {},
     "output_type": "display_data"
    },
    {
     "data": {
      "text/html": [
       "<div>\n",
       "<style scoped>\n",
       "    .dataframe tbody tr th:only-of-type {\n",
       "        vertical-align: middle;\n",
       "    }\n",
       "\n",
       "    .dataframe tbody tr th {\n",
       "        vertical-align: top;\n",
       "    }\n",
       "\n",
       "    .dataframe thead th {\n",
       "        text-align: right;\n",
       "    }\n",
       "</style>\n",
       "<table border=\"1\" class=\"dataframe\">\n",
       "  <thead>\n",
       "    <tr style=\"text-align: right;\">\n",
       "      <th></th>\n",
       "      <th>model</th>\n",
       "      <th>accuracy</th>\n",
       "      <th>f1</th>\n",
       "      <th>recall</th>\n",
       "      <th>precision</th>\n",
       "    </tr>\n",
       "  </thead>\n",
       "  <tbody>\n",
       "    <tr>\n",
       "      <th>0</th>\n",
       "      <td>lr</td>\n",
       "      <td>0.948879</td>\n",
       "      <td>0.774704</td>\n",
       "      <td>0.657718</td>\n",
       "      <td>0.942308</td>\n",
       "    </tr>\n",
       "    <tr>\n",
       "      <th>1</th>\n",
       "      <td>rf</td>\n",
       "      <td>0.968610</td>\n",
       "      <td>0.866920</td>\n",
       "      <td>0.765101</td>\n",
       "      <td>1.000000</td>\n",
       "    </tr>\n",
       "    <tr>\n",
       "      <th>2</th>\n",
       "      <td>svc</td>\n",
       "      <td>0.972197</td>\n",
       "      <td>0.887273</td>\n",
       "      <td>0.818792</td>\n",
       "      <td>0.968254</td>\n",
       "    </tr>\n",
       "    <tr>\n",
       "      <th>3</th>\n",
       "      <td>gaussian</td>\n",
       "      <td>0.958744</td>\n",
       "      <td>0.818898</td>\n",
       "      <td>0.697987</td>\n",
       "      <td>0.990476</td>\n",
       "    </tr>\n",
       "  </tbody>\n",
       "</table>\n",
       "</div>"
      ],
      "text/plain": [
       "      model  accuracy        f1    recall  precision\n",
       "0        lr  0.948879  0.774704  0.657718   0.942308\n",
       "1        rf  0.968610  0.866920  0.765101   1.000000\n",
       "2       svc  0.972197  0.887273  0.818792   0.968254\n",
       "3  gaussian  0.958744  0.818898  0.697987   0.990476"
      ]
     },
     "execution_count": 21,
     "metadata": {},
     "output_type": "execute_result"
    }
   ],
   "source": [
    "tfidf_results = []\n",
    "\n",
    "for model, model_name in zip(models, model_names):\n",
    "    results = train_model(model, model_name, X_train_tfidf,y_train,X_test_tfidf,y_test)\n",
    "    tfidf_results.extend(results)\n",
    "    \n",
    "tfidf_results_df = pd.DataFrame(tfidf_results)\n",
    "tfidf_results_df"
   ]
  },
  {
   "cell_type": "markdown",
   "id": "ec0d8051",
   "metadata": {},
   "source": [
    "### Conclusion from Model Training using TF-IDF\n",
    "\n",
    "In the evaluation of models trained with TF-IDF, **SVC (Support Vector Classifier)** demonstrates the best performance:\n",
    "\n",
    "- **Accuracy:** 97.2%\n",
    "- **F1 Score:** 88.7%\n",
    "- **False Positives:** 4\n",
    "- **False Negatives:** 27\n",
    "\n",
    "While **SVC** achieves the highest accuracy and F1 score, it does have some false positives and false negatives.\n",
    "\n",
    "If the primary goal is to eliminate false positives, **Random Forest** emerges as the best choice:\n",
    "\n",
    "- **Accuracy:** 96.8%\n",
    "- **F1 Score:** 86.6%\n",
    "- **False Positives:** 0\n",
    "- **False Negatives:** 35\n",
    "\n",
    "**Random Forest** does not produce any false positives, making it ideal for scenarios where avoiding false spam detections is crucial, despite having a slightly lower accuracy and F1 score compared to **SVC**.\n",
    "\n",
    "**Additional Notes:**\n",
    "- None of the models underwent hyperparameter optimization (default parameters were used).\n"
   ]
  },
  {
   "cell_type": "markdown",
   "id": "04aa800d",
   "metadata": {},
   "source": [
    "## Model Training and Hyperparameter Optimization"
   ]
  },
  {
   "cell_type": "code",
   "execution_count": 27,
   "id": "ec8f937d",
   "metadata": {},
   "outputs": [],
   "source": [
    "# Define params grid\n",
    "params_grid_lr = {'C': [0.001, 0.01, 0.1, 1, 10],\n",
    "                  'penalty': ['l1', 'l2'],\n",
    "                  'solver': ['liblinear', 'saga'],\n",
    "                  'class_weight': [None, 'balanced']}\n",
    "\n",
    "params_grid_rf = {'n_estimators' : [5,10,15,20],\n",
    "                  'max_depth': [2,4,5,10],\n",
    "                  'criterion': ['gini'],\n",
    "                  'min_samples_split' : [2,3],\n",
    "                  'min_samples_leaf' : [1,2],\n",
    "                  'class_weight' : ['balanced'],\n",
    "                  'random_state' : [42]}\n",
    "\n",
    "params_grid_svc = {'kernel' : ['linear', 'poly', 'rbf'],\n",
    "                  'degree': [2,3,4],\n",
    "                  'C': [0.01,0.05,0.1,0.5,1],\n",
    "                  'class_weight' : ['balanced'],\n",
    "                  'random_state' : [42]}\n",
    "\n",
    "params_grid_nb = {'alpha': [0.1, 0.5, 1.0, 2.0],\n",
    "                  'fit_prior': [True, False]}\n",
    "\n",
    "params = [params_grid_lr,params_grid_rf,params_grid_svc,params_grid_nb]"
   ]
  },
  {
   "cell_type": "code",
   "execution_count": 23,
   "id": "bf9870e1",
   "metadata": {},
   "outputs": [],
   "source": [
    "# Define gridsearch function\n",
    "def gridsearch_params(model,model_name,params, X_train,y_train,X_test,y_test):\n",
    "    report = []\n",
    "    \n",
    "    print('\\nCurrently fitting model:', model_name, '\\n')\n",
    "    \n",
    "    # define kfold\n",
    "    kf = KFold(n_splits=5, shuffle=True, random_state=42)\n",
    "\n",
    "    # define grid\n",
    "    grid_cv = GridSearchCV(model,params,cv=kf,n_jobs=-1, verbose=1, refit=True, scoring='f1_macro')\n",
    "    \n",
    "    #fit\n",
    "    grid_cv.fit(X_train,y_train)\n",
    "    \n",
    "    # print the best score and parameters\n",
    "    best_score = grid_cv.best_score_\n",
    "    best_params = grid_cv.best_params_\n",
    "    \n",
    "    print(f'Best Score:', best_score)\n",
    "    print('Best Params:', best_params)\n",
    "    \n",
    "    # cppend results\n",
    "    results = {'model': model_name,\n",
    "              'best_score': best_score}\n",
    "    \n",
    "    report.append(results)\n",
    "    \n",
    "    return report"
   ]
  },
  {
   "cell_type": "code",
   "execution_count": 24,
   "id": "f2371741",
   "metadata": {},
   "outputs": [
    {
     "name": "stdout",
     "output_type": "stream",
     "text": [
      "\n",
      "Currently fitting model: lr \n",
      "\n",
      "Fitting 5 folds for each of 40 candidates, totalling 200 fits\n",
      "Best Score: 0.9543307174583375\n",
      "Best Params: {'C': 10, 'class_weight': 'balanced', 'penalty': 'l2', 'solver': 'liblinear'}\n",
      "\n",
      "Currently fitting model: rf \n",
      "\n",
      "Fitting 5 folds for each of 64 candidates, totalling 320 fits\n",
      "Best Score: 0.89102630110029\n",
      "Best Params: {'class_weight': 'balanced', 'criterion': 'gini', 'max_depth': 10, 'min_samples_leaf': 2, 'min_samples_split': 2, 'n_estimators': 20, 'random_state': 42}\n",
      "\n",
      "Currently fitting model: svc \n",
      "\n",
      "Fitting 5 folds for each of 45 candidates, totalling 225 fits\n",
      "Best Score: 0.9481286095139263\n",
      "Best Params: {'C': 0.1, 'class_weight': 'balanced', 'degree': 2, 'kernel': 'linear', 'random_state': 42}\n",
      "\n",
      "Currently fitting model: gaussian \n",
      "\n",
      "Fitting 5 folds for each of 8 candidates, totalling 40 fits\n",
      "Best Score: 0.9471769494116437\n",
      "Best Params: {'alpha': 2.0, 'fit_prior': True}\n"
     ]
    },
    {
     "data": {
      "text/html": [
       "<div>\n",
       "<style scoped>\n",
       "    .dataframe tbody tr th:only-of-type {\n",
       "        vertical-align: middle;\n",
       "    }\n",
       "\n",
       "    .dataframe tbody tr th {\n",
       "        vertical-align: top;\n",
       "    }\n",
       "\n",
       "    .dataframe thead th {\n",
       "        text-align: right;\n",
       "    }\n",
       "</style>\n",
       "<table border=\"1\" class=\"dataframe\">\n",
       "  <thead>\n",
       "    <tr style=\"text-align: right;\">\n",
       "      <th></th>\n",
       "      <th>model</th>\n",
       "      <th>best_score</th>\n",
       "    </tr>\n",
       "  </thead>\n",
       "  <tbody>\n",
       "    <tr>\n",
       "      <th>0</th>\n",
       "      <td>lr</td>\n",
       "      <td>0.954331</td>\n",
       "    </tr>\n",
       "    <tr>\n",
       "      <th>1</th>\n",
       "      <td>rf</td>\n",
       "      <td>0.891026</td>\n",
       "    </tr>\n",
       "    <tr>\n",
       "      <th>2</th>\n",
       "      <td>svc</td>\n",
       "      <td>0.948129</td>\n",
       "    </tr>\n",
       "    <tr>\n",
       "      <th>3</th>\n",
       "      <td>gaussian</td>\n",
       "      <td>0.947177</td>\n",
       "    </tr>\n",
       "  </tbody>\n",
       "</table>\n",
       "</div>"
      ],
      "text/plain": [
       "      model  best_score\n",
       "0        lr    0.954331\n",
       "1        rf    0.891026\n",
       "2       svc    0.948129\n",
       "3  gaussian    0.947177"
      ]
     },
     "execution_count": 24,
     "metadata": {},
     "output_type": "execute_result"
    }
   ],
   "source": [
    "# Train and tune parameters using BOW\n",
    "report_bow = []\n",
    "\n",
    "for model, model_name, params in zip(models, model_names, params):\n",
    "    results = gridsearch_params(model, model_name,params, X_train_bow,y_train,X_test_bow,y_test)\n",
    "    report_bow.extend(results)\n",
    "    \n",
    "# display results in df    \n",
    "report_bow_df = pd.DataFrame(report_bow)\n",
    "report_bow_df"
   ]
  },
  {
   "cell_type": "code",
   "execution_count": 28,
   "id": "cdbceb9c",
   "metadata": {},
   "outputs": [
    {
     "name": "stdout",
     "output_type": "stream",
     "text": [
      "\n",
      "Currently fitting model: lr \n",
      "\n",
      "Fitting 5 folds for each of 40 candidates, totalling 200 fits\n",
      "Best Score: 0.939740920837913\n",
      "Best Params: {'C': 10, 'class_weight': 'balanced', 'penalty': 'l2', 'solver': 'saga'}\n",
      "\n",
      "Currently fitting model: rf \n",
      "\n",
      "Fitting 5 folds for each of 64 candidates, totalling 320 fits\n",
      "Best Score: 0.894884769622301\n",
      "Best Params: {'class_weight': 'balanced', 'criterion': 'gini', 'max_depth': 10, 'min_samples_leaf': 1, 'min_samples_split': 2, 'n_estimators': 20, 'random_state': 42}\n",
      "\n",
      "Currently fitting model: svc \n",
      "\n",
      "Fitting 5 folds for each of 45 candidates, totalling 225 fits\n",
      "Best Score: 0.9347520451494497\n",
      "Best Params: {'C': 0.5, 'class_weight': 'balanced', 'degree': 2, 'kernel': 'linear', 'random_state': 42}\n",
      "\n",
      "Currently fitting model: gaussian \n",
      "\n",
      "Fitting 5 folds for each of 8 candidates, totalling 40 fits\n",
      "Best Score: 0.9464267678937827\n",
      "Best Params: {'alpha': 0.1, 'fit_prior': True}\n"
     ]
    },
    {
     "data": {
      "text/html": [
       "<div>\n",
       "<style scoped>\n",
       "    .dataframe tbody tr th:only-of-type {\n",
       "        vertical-align: middle;\n",
       "    }\n",
       "\n",
       "    .dataframe tbody tr th {\n",
       "        vertical-align: top;\n",
       "    }\n",
       "\n",
       "    .dataframe thead th {\n",
       "        text-align: right;\n",
       "    }\n",
       "</style>\n",
       "<table border=\"1\" class=\"dataframe\">\n",
       "  <thead>\n",
       "    <tr style=\"text-align: right;\">\n",
       "      <th></th>\n",
       "      <th>model</th>\n",
       "      <th>best_score</th>\n",
       "    </tr>\n",
       "  </thead>\n",
       "  <tbody>\n",
       "    <tr>\n",
       "      <th>0</th>\n",
       "      <td>lr</td>\n",
       "      <td>0.939741</td>\n",
       "    </tr>\n",
       "    <tr>\n",
       "      <th>1</th>\n",
       "      <td>rf</td>\n",
       "      <td>0.894885</td>\n",
       "    </tr>\n",
       "    <tr>\n",
       "      <th>2</th>\n",
       "      <td>svc</td>\n",
       "      <td>0.934752</td>\n",
       "    </tr>\n",
       "    <tr>\n",
       "      <th>3</th>\n",
       "      <td>gaussian</td>\n",
       "      <td>0.946427</td>\n",
       "    </tr>\n",
       "  </tbody>\n",
       "</table>\n",
       "</div>"
      ],
      "text/plain": [
       "      model  best_score\n",
       "0        lr    0.939741\n",
       "1        rf    0.894885\n",
       "2       svc    0.934752\n",
       "3  gaussian    0.946427"
      ]
     },
     "execution_count": 28,
     "metadata": {},
     "output_type": "execute_result"
    }
   ],
   "source": [
    "# Train and tune parameters using TFIDF\n",
    "report_tfidf = []\n",
    "\n",
    "for model, model_name, params in zip(models, model_names, params):\n",
    "    results = gridsearch_params(model, model_name,params, X_train_tfidf,y_train,X_test_tfidf,y_test)\n",
    "    report_tfidf.extend(results)\n",
    "\n",
    "# display results in df    \n",
    "report_tfidf_df = pd.DataFrame(report_tfidf)\n",
    "report_tfidf_df"
   ]
  },
  {
   "cell_type": "markdown",
   "id": "539032f6",
   "metadata": {},
   "source": [
    "#### Evaluate using best models"
   ]
  },
  {
   "cell_type": "code",
   "execution_count": 25,
   "id": "9b34ce2e",
   "metadata": {},
   "outputs": [
    {
     "name": "stdout",
     "output_type": "stream",
     "text": [
      "Accuracy score : 0.98\n",
      "F1 score : 0.94\n",
      "Recall Score : 0.91\n",
      "Precision Score : 0.98\n"
     ]
    },
    {
     "data": {
      "image/png": "[encoded data removed]",
      "text/plain": [
       "<Figure size 600x300 with 2 Axes>"
      ]
     },
     "metadata": {},
     "output_type": "display_data"
    }
   ],
   "source": [
    "# Load best model\n",
    "best_model_bow = LogisticRegression(C=10, class_weight='balanced', penalty = 'l2', solver = 'liblinear')\n",
    "\n",
    "# fit\n",
    "best_model_bow.fit(X_train_bow,y_train)\n",
    "\n",
    "# Evaluate\n",
    "y_predicted = best_model_bow.predict(X_test_bow)\n",
    "\n",
    "# Score\n",
    "accuracy = accuracy_score(y_test,y_predicted)\n",
    "f1 = f1_score(y_test,y_predicted)\n",
    "recall = recall_score(y_test,y_predicted)\n",
    "precision = precision_score(y_test, y_predicted)\n",
    "\n",
    "print('Accuracy score :', np.round(accuracy,2))\n",
    "print('F1 score :', np.round(f1,2))\n",
    "print('Recall Score :', np.round(recall,2))\n",
    "print('Precision Score :', np.round(precision,2))\n",
    "\n",
    "# confusion matrix\n",
    "cf = confusion_matrix(y_test,y_predicted)\n",
    "\n",
    "# Plot confusion matrix\n",
    "plt.figure(figsize=(6, 3))\n",
    "sns.heatmap(cf, annot=True, fmt='d', cmap='Blues', xticklabels=model.classes_, yticklabels=model.classes_)\n",
    "plt.title(f'Confusion Matrix for Logistic Regression-BOW')\n",
    "plt.xlabel('Predicted Label')\n",
    "plt.ylabel('True Label')\n",
    "plt.show()"
   ]
  },
  {
   "cell_type": "code",
   "execution_count": 29,
   "id": "380050d9",
   "metadata": {},
   "outputs": [
    {
     "name": "stdout",
     "output_type": "stream",
     "text": [
      "Accuracy score : 0.98\n",
      "F1 score : 0.91\n",
      "Recall Score : 0.86\n",
      "Precision Score : 0.97\n"
     ]
    },
    {
     "data": {
      "image/png": "[encoded data removed]",
      "text/plain": [
       "<Figure size 600x300 with 2 Axes>"
      ]
     },
     "metadata": {},
     "output_type": "display_data"
    }
   ],
   "source": [
    "# Load best model\n",
    "best_model_tfidf = MultinomialNB(alpha=0.1, fit_prior=True)\n",
    "\n",
    "# fit\n",
    "best_model_tfidf.fit(X_train_tfidf,y_train)\n",
    "\n",
    "# Evaluate\n",
    "y_predicted = best_model_tfidf.predict(X_test_tfidf)\n",
    "\n",
    "# Score\n",
    "accuracy = accuracy_score(y_test,y_predicted)\n",
    "f1 = f1_score(y_test,y_predicted)\n",
    "recall = recall_score(y_test,y_predicted)\n",
    "precision = precision_score(y_test, y_predicted)\n",
    "\n",
    "print('Accuracy score :', np.round(accuracy,2))\n",
    "print('F1 score :', np.round(f1,2))\n",
    "print('Recall Score :', np.round(recall,2))\n",
    "print('Precision Score :', np.round(precision,2))\n",
    "\n",
    "# confusion matrix\n",
    "cf = confusion_matrix(y_test,y_predicted)\n",
    "\n",
    "# Plot confusion matrix\n",
    "plt.figure(figsize=(6, 3))\n",
    "sns.heatmap(cf, annot=True, fmt='d', cmap='Blues', xticklabels=model.classes_, yticklabels=model.classes_)\n",
    "plt.title(f'Confusion Matrix for MultionomialNB-TFIDF')\n",
    "plt.xlabel('Predicted Label')\n",
    "plt.ylabel('True Label')\n",
    "plt.show()"
   ]
  },
  {
   "cell_type": "code",
   "execution_count": 31,
   "id": "bc3fcb8c",
   "metadata": {},
   "outputs": [
    {
     "data": {
      "text/plain": [
       "['best_model_spam_detection.pkl']"
      ]
     },
     "execution_count": 31,
     "metadata": {},
     "output_type": "execute_result"
    }
   ],
   "source": [
    "# Save best model\n",
    "joblib.dump(best_model_bow, 'best_model_spam_detection.pkl')"
   ]
  },
  {
   "cell_type": "markdown",
   "id": "af762a1e",
   "metadata": {},
   "source": [
    "## Prediction"
   ]
  },
  {
   "cell_type": "code",
   "execution_count": 33,
   "id": "19dd1caf",
   "metadata": {},
   "outputs": [
    {
     "data": {
      "text/html": [
       "<style>#sk-container-id-1 {\n",
       "  /* Definition of color scheme common for light and dark mode */\n",
       "  --sklearn-color-text: black;\n",
       "  --sklearn-color-line: gray;\n",
       "  /* Definition of color scheme for unfitted estimators */\n",
       "  --sklearn-color-unfitted-level-0: #fff5e6;\n",
       "  --sklearn-color-unfitted-level-1: #f6e4d2;\n",
       "  --sklearn-color-unfitted-level-2: #ffe0b3;\n",
       "  --sklearn-color-unfitted-level-3: chocolate;\n",
       "  /* Definition of color scheme for fitted estimators */\n",
       "  --sklearn-color-fitted-level-0: #f0f8ff;\n",
       "  --sklearn-color-fitted-level-1: #d4ebff;\n",
       "  --sklearn-color-fitted-level-2: #b3dbfd;\n",
       "  --sklearn-color-fitted-level-3: cornflowerblue;\n",
       "\n",
       "  /* Specific color for light theme */\n",
       "  --sklearn-color-text-on-default-background: var(--sg-text-color, var(--theme-code-foreground, var(--jp-content-font-color1, black)));\n",
       "  --sklearn-color-background: var(--sg-background-color, var(--theme-background, var(--jp-layout-color0, white)));\n",
       "  --sklearn-color-border-box: var(--sg-text-color, var(--theme-code-foreground, var(--jp-content-font-color1, black)));\n",
       "  --sklearn-color-icon: #696969;\n",
       "\n",
       "  @media (prefers-color-scheme: dark) {\n",
       "    /* Redefinition of color scheme for dark theme */\n",
       "    --sklearn-color-text-on-default-background: var(--sg-text-color, var(--theme-code-foreground, var(--jp-content-font-color1, white)));\n",
       "    --sklearn-color-background: var(--sg-background-color, var(--theme-background, var(--jp-layout-color0, #111)));\n",
       "    --sklearn-color-border-box: var(--sg-text-color, var(--theme-code-foreground, var(--jp-content-font-color1, white)));\n",
       "    --sklearn-color-icon: #878787;\n",
       "  }\n",
       "}\n",
       "\n",
       "#sk-container-id-1 {\n",
       "  color: var(--sklearn-color-text);\n",
       "}\n",
       "\n",
       "#sk-container-id-1 pre {\n",
       "  padding: 0;\n",
       "}\n",
       "\n",
       "#sk-container-id-1 input.sk-hidden--visually {\n",
       "  border: 0;\n",
       "  clip: rect(1px 1px 1px 1px);\n",
       "  clip: rect(1px, 1px, 1px, 1px);\n",
       "  height: 1px;\n",
       "  margin: -1px;\n",
       "  overflow: hidden;\n",
       "  padding: 0;\n",
       "  position: absolute;\n",
       "  width: 1px;\n",
       "}\n",
       "\n",
       "#sk-container-id-1 div.sk-dashed-wrapped {\n",
       "  border: 1px dashed var(--sklearn-color-line);\n",
       "  margin: 0 0.4em 0.5em 0.4em;\n",
       "  box-sizing: border-box;\n",
       "  padding-bottom: 0.4em;\n",
       "  background-color: var(--sklearn-color-background);\n",
       "}\n",
       "\n",
       "#sk-container-id-1 div.sk-container {\n",
       "  /* jupyter's `normalize.less` sets `[hidden] { display: none; }`\n",
       "     but bootstrap.min.css set `[hidden] { display: none !important; }`\n",
       "     so we also need the `!important` here to be able to override the\n",
       "     default hidden behavior on the sphinx rendered scikit-learn.org.\n",
       "     See: https://github.com/scikit-learn/scikit-learn/issues/21755 */\n",
       "  display: inline-block !important;\n",
       "  position: relative;\n",
       "}\n",
       "\n",
       "#sk-container-id-1 div.sk-text-repr-fallback {\n",
       "  display: none;\n",
       "}\n",
       "\n",
       "div.sk-parallel-item,\n",
       "div.sk-serial,\n",
       "div.sk-item {\n",
       "  /* draw centered vertical line to link estimators */\n",
       "  background-image: linear-gradient(var(--sklearn-color-text-on-default-background), var(--sklearn-color-text-on-default-background));\n",
       "  background-size: 2px 100%;\n",
       "  background-repeat: no-repeat;\n",
       "  background-position: center center;\n",
       "}\n",
       "\n",
       "/* Parallel-specific style estimator block */\n",
       "\n",
       "#sk-container-id-1 div.sk-parallel-item::after {\n",
       "  content: \"\";\n",
       "  width: 100%;\n",
       "  border-bottom: 2px solid var(--sklearn-color-text-on-default-background);\n",
       "  flex-grow: 1;\n",
       "}\n",
       "\n",
       "#sk-container-id-1 div.sk-parallel {\n",
       "  display: flex;\n",
       "  align-items: stretch;\n",
       "  justify-content: center;\n",
       "  background-color: var(--sklearn-color-background);\n",
       "  position: relative;\n",
       "}\n",
       "\n",
       "#sk-container-id-1 div.sk-parallel-item {\n",
       "  display: flex;\n",
       "  flex-direction: column;\n",
       "}\n",
       "\n",
       "#sk-container-id-1 div.sk-parallel-item:first-child::after {\n",
       "  align-self: flex-end;\n",
       "  width: 50%;\n",
       "}\n",
       "\n",
       "#sk-container-id-1 div.sk-parallel-item:last-child::after {\n",
       "  align-self: flex-start;\n",
       "  width: 50%;\n",
       "}\n",
       "\n",
       "#sk-container-id-1 div.sk-parallel-item:only-child::after {\n",
       "  width: 0;\n",
       "}\n",
       "\n",
       "/* Serial-specific style estimator block */\n",
       "\n",
       "#sk-container-id-1 div.sk-serial {\n",
       "  display: flex;\n",
       "  flex-direction: column;\n",
       "  align-items: center;\n",
       "  background-color: var(--sklearn-color-background);\n",
       "  padding-right: 1em;\n",
       "  padding-left: 1em;\n",
       "}\n",
       "\n",
       "\n",
       "/* Toggleable style: style used for estimator/Pipeline/ColumnTransformer box that is\n",
       "clickable and can be expanded/collapsed.\n",
       "- Pipeline and ColumnTransformer use this feature and define the default style\n",
       "- Estimators will overwrite some part of the style using the `sk-estimator` class\n",
       "*/\n",
       "\n",
       "/* Pipeline and ColumnTransformer style (default) */\n",
       "\n",
       "#sk-container-id-1 div.sk-toggleable {\n",
       "  /* Default theme specific background. It is overwritten whether we have a\n",
       "  specific estimator or a Pipeline/ColumnTransformer */\n",
       "  background-color: var(--sklearn-color-background);\n",
       "}\n",
       "\n",
       "/* Toggleable label */\n",
       "#sk-container-id-1 label.sk-toggleable__label {\n",
       "  cursor: pointer;\n",
       "  display: block;\n",
       "  width: 100%;\n",
       "  margin-bottom: 0;\n",
       "  padding: 0.5em;\n",
       "  box-sizing: border-box;\n",
       "  text-align: center;\n",
       "}\n",
       "\n",
       "#sk-container-id-1 label.sk-toggleable__label-arrow:before {\n",
       "  /* Arrow on the left of the label */\n",
       "  content: \"▸\";\n",
       "  float: left;\n",
       "  margin-right: 0.25em;\n",
       "  color: var(--sklearn-color-icon);\n",
       "}\n",
       "\n",
       "#sk-container-id-1 label.sk-toggleable__label-arrow:hover:before {\n",
       "  color: var(--sklearn-color-text);\n",
       "}\n",
       "\n",
       "/* Toggleable content - dropdown */\n",
       "\n",
       "#sk-container-id-1 div.sk-toggleable__content {\n",
       "  max-height: 0;\n",
       "  max-width: 0;\n",
       "  overflow: hidden;\n",
       "  text-align: left;\n",
       "  /* unfitted */\n",
       "  background-color: var(--sklearn-color-unfitted-level-0);\n",
       "}\n",
       "\n",
       "#sk-container-id-1 div.sk-toggleable__content.fitted {\n",
       "  /* fitted */\n",
       "  background-color: var(--sklearn-color-fitted-level-0);\n",
       "}\n",
       "\n",
       "#sk-container-id-1 div.sk-toggleable__content pre {\n",
       "  margin: 0.2em;\n",
       "  border-radius: 0.25em;\n",
       "  color: var(--sklearn-color-text);\n",
       "  /* unfitted */\n",
       "  background-color: var(--sklearn-color-unfitted-level-0);\n",
       "}\n",
       "\n",
       "#sk-container-id-1 div.sk-toggleable__content.fitted pre {\n",
       "  /* unfitted */\n",
       "  background-color: var(--sklearn-color-fitted-level-0);\n",
       "}\n",
       "\n",
       "#sk-container-id-1 input.sk-toggleable__control:checked~div.sk-toggleable__content {\n",
       "  /* Expand drop-down */\n",
       "  max-height: 200px;\n",
       "  max-width: 100%;\n",
       "  overflow: auto;\n",
       "}\n",
       "\n",
       "#sk-container-id-1 input.sk-toggleable__control:checked~label.sk-toggleable__label-arrow:before {\n",
       "  content: \"▾\";\n",
       "}\n",
       "\n",
       "/* Pipeline/ColumnTransformer-specific style */\n",
       "\n",
       "#sk-container-id-1 div.sk-label input.sk-toggleable__control:checked~label.sk-toggleable__label {\n",
       "  color: var(--sklearn-color-text);\n",
       "  background-color: var(--sklearn-color-unfitted-level-2);\n",
       "}\n",
       "\n",
       "#sk-container-id-1 div.sk-label.fitted input.sk-toggleable__control:checked~label.sk-toggleable__label {\n",
       "  background-color: var(--sklearn-color-fitted-level-2);\n",
       "}\n",
       "\n",
       "/* Estimator-specific style */\n",
       "\n",
       "/* Colorize estimator box */\n",
       "#sk-container-id-1 div.sk-estimator input.sk-toggleable__control:checked~label.sk-toggleable__label {\n",
       "  /* unfitted */\n",
       "  background-color: var(--sklearn-color-unfitted-level-2);\n",
       "}\n",
       "\n",
       "#sk-container-id-1 div.sk-estimator.fitted input.sk-toggleable__control:checked~label.sk-toggleable__label {\n",
       "  /* fitted */\n",
       "  background-color: var(--sklearn-color-fitted-level-2);\n",
       "}\n",
       "\n",
       "#sk-container-id-1 div.sk-label label.sk-toggleable__label,\n",
       "#sk-container-id-1 div.sk-label label {\n",
       "  /* The background is the default theme color */\n",
       "  color: var(--sklearn-color-text-on-default-background);\n",
       "}\n",
       "\n",
       "/* On hover, darken the color of the background */\n",
       "#sk-container-id-1 div.sk-label:hover label.sk-toggleable__label {\n",
       "  color: var(--sklearn-color-text);\n",
       "  background-color: var(--sklearn-color-unfitted-level-2);\n",
       "}\n",
       "\n",
       "/* Label box, darken color on hover, fitted */\n",
       "#sk-container-id-1 div.sk-label.fitted:hover label.sk-toggleable__label.fitted {\n",
       "  color: var(--sklearn-color-text);\n",
       "  background-color: var(--sklearn-color-fitted-level-2);\n",
       "}\n",
       "\n",
       "/* Estimator label */\n",
       "\n",
       "#sk-container-id-1 div.sk-label label {\n",
       "  font-family: monospace;\n",
       "  font-weight: bold;\n",
       "  display: inline-block;\n",
       "  line-height: 1.2em;\n",
       "}\n",
       "\n",
       "#sk-container-id-1 div.sk-label-container {\n",
       "  text-align: center;\n",
       "}\n",
       "\n",
       "/* Estimator-specific */\n",
       "#sk-container-id-1 div.sk-estimator {\n",
       "  font-family: monospace;\n",
       "  border: 1px dotted var(--sklearn-color-border-box);\n",
       "  border-radius: 0.25em;\n",
       "  box-sizing: border-box;\n",
       "  margin-bottom: 0.5em;\n",
       "  /* unfitted */\n",
       "  background-color: var(--sklearn-color-unfitted-level-0);\n",
       "}\n",
       "\n",
       "#sk-container-id-1 div.sk-estimator.fitted {\n",
       "  /* fitted */\n",
       "  background-color: var(--sklearn-color-fitted-level-0);\n",
       "}\n",
       "\n",
       "/* on hover */\n",
       "#sk-container-id-1 div.sk-estimator:hover {\n",
       "  /* unfitted */\n",
       "  background-color: var(--sklearn-color-unfitted-level-2);\n",
       "}\n",
       "\n",
       "#sk-container-id-1 div.sk-estimator.fitted:hover {\n",
       "  /* fitted */\n",
       "  background-color: var(--sklearn-color-fitted-level-2);\n",
       "}\n",
       "\n",
       "/* Specification for estimator info (e.g. \"i\" and \"?\") */\n",
       "\n",
       "/* Common style for \"i\" and \"?\" */\n",
       "\n",
       ".sk-estimator-doc-link,\n",
       "a:link.sk-estimator-doc-link,\n",
       "a:visited.sk-estimator-doc-link {\n",
       "  float: right;\n",
       "  font-size: smaller;\n",
       "  line-height: 1em;\n",
       "  font-family: monospace;\n",
       "  background-color: var(--sklearn-color-background);\n",
       "  border-radius: 1em;\n",
       "  height: 1em;\n",
       "  width: 1em;\n",
       "  text-decoration: none !important;\n",
       "  margin-left: 1ex;\n",
       "  /* unfitted */\n",
       "  border: var(--sklearn-color-unfitted-level-1) 1pt solid;\n",
       "  color: var(--sklearn-color-unfitted-level-1);\n",
       "}\n",
       "\n",
       ".sk-estimator-doc-link.fitted,\n",
       "a:link.sk-estimator-doc-link.fitted,\n",
       "a:visited.sk-estimator-doc-link.fitted {\n",
       "  /* fitted */\n",
       "  border: var(--sklearn-color-fitted-level-1) 1pt solid;\n",
       "  color: var(--sklearn-color-fitted-level-1);\n",
       "}\n",
       "\n",
       "/* On hover */\n",
       "div.sk-estimator:hover .sk-estimator-doc-link:hover,\n",
       ".sk-estimator-doc-link:hover,\n",
       "div.sk-label-container:hover .sk-estimator-doc-link:hover,\n",
       ".sk-estimator-doc-link:hover {\n",
       "  /* unfitted */\n",
       "  background-color: var(--sklearn-color-unfitted-level-3);\n",
       "  color: var(--sklearn-color-background);\n",
       "  text-decoration: none;\n",
       "}\n",
       "\n",
       "div.sk-estimator.fitted:hover .sk-estimator-doc-link.fitted:hover,\n",
       ".sk-estimator-doc-link.fitted:hover,\n",
       "div.sk-label-container:hover .sk-estimator-doc-link.fitted:hover,\n",
       ".sk-estimator-doc-link.fitted:hover {\n",
       "  /* fitted */\n",
       "  background-color: var(--sklearn-color-fitted-level-3);\n",
       "  color: var(--sklearn-color-background);\n",
       "  text-decoration: none;\n",
       "}\n",
       "\n",
       "/* Span, style for the box shown on hovering the info icon */\n",
       ".sk-estimator-doc-link span {\n",
       "  display: none;\n",
       "  z-index: 9999;\n",
       "  position: relative;\n",
       "  font-weight: normal;\n",
       "  right: .2ex;\n",
       "  padding: .5ex;\n",
       "  margin: .5ex;\n",
       "  width: min-content;\n",
       "  min-width: 20ex;\n",
       "  max-width: 50ex;\n",
       "  color: var(--sklearn-color-text);\n",
       "  box-shadow: 2pt 2pt 4pt #999;\n",
       "  /* unfitted */\n",
       "  background: var(--sklearn-color-unfitted-level-0);\n",
       "  border: .5pt solid var(--sklearn-color-unfitted-level-3);\n",
       "}\n",
       "\n",
       ".sk-estimator-doc-link.fitted span {\n",
       "  /* fitted */\n",
       "  background: var(--sklearn-color-fitted-level-0);\n",
       "  border: var(--sklearn-color-fitted-level-3);\n",
       "}\n",
       "\n",
       ".sk-estimator-doc-link:hover span {\n",
       "  display: block;\n",
       "}\n",
       "\n",
       "/* \"?\"-specific style due to the `<a>` HTML tag */\n",
       "\n",
       "#sk-container-id-1 a.estimator_doc_link {\n",
       "  float: right;\n",
       "  font-size: 1rem;\n",
       "  line-height: 1em;\n",
       "  font-family: monospace;\n",
       "  background-color: var(--sklearn-color-background);\n",
       "  border-radius: 1rem;\n",
       "  height: 1rem;\n",
       "  width: 1rem;\n",
       "  text-decoration: none;\n",
       "  /* unfitted */\n",
       "  color: var(--sklearn-color-unfitted-level-1);\n",
       "  border: var(--sklearn-color-unfitted-level-1) 1pt solid;\n",
       "}\n",
       "\n",
       "#sk-container-id-1 a.estimator_doc_link.fitted {\n",
       "  /* fitted */\n",
       "  border: var(--sklearn-color-fitted-level-1) 1pt solid;\n",
       "  color: var(--sklearn-color-fitted-level-1);\n",
       "}\n",
       "\n",
       "/* On hover */\n",
       "#sk-container-id-1 a.estimator_doc_link:hover {\n",
       "  /* unfitted */\n",
       "  background-color: var(--sklearn-color-unfitted-level-3);\n",
       "  color: var(--sklearn-color-background);\n",
       "  text-decoration: none;\n",
       "}\n",
       "\n",
       "#sk-container-id-1 a.estimator_doc_link.fitted:hover {\n",
       "  /* fitted */\n",
       "  background-color: var(--sklearn-color-fitted-level-3);\n",
       "}\n",
       "</style><div id=\"sk-container-id-1\" class=\"sk-top-container\"><div class=\"sk-text-repr-fallback\"><pre>LogisticRegression(C=10, class_weight=&#x27;balanced&#x27;, solver=&#x27;liblinear&#x27;)</pre><b>In a Jupyter environment, please rerun this cell to show the HTML representation or trust the notebook. <br />On GitHub, the HTML representation is unable to render, please try loading this page with nbviewer.org.</b></div><div class=\"sk-container\" hidden><div class=\"sk-item\"><div class=\"sk-estimator fitted sk-toggleable\"><input class=\"sk-toggleable__control sk-hidden--visually\" id=\"sk-estimator-id-1\" type=\"checkbox\" checked><label for=\"sk-estimator-id-1\" class=\"sk-toggleable__label fitted sk-toggleable__label-arrow fitted\">&nbsp;&nbsp;LogisticRegression<a class=\"sk-estimator-doc-link fitted\" rel=\"noreferrer\" target=\"_blank\" href=\"https://scikit-learn.org/1.5/modules/generated/sklearn.linear_model.LogisticRegression.html\">?<span>Documentation for LogisticRegression</span></a><span class=\"sk-estimator-doc-link fitted\">i<span>Fitted</span></span></label><div class=\"sk-toggleable__content fitted\"><pre>LogisticRegression(C=10, class_weight=&#x27;balanced&#x27;, solver=&#x27;liblinear&#x27;)</pre></div> </div></div></div></div>"
      ],
      "text/plain": [
       "LogisticRegression(C=10, class_weight='balanced', solver='liblinear')"
      ]
     },
     "execution_count": 33,
     "metadata": {},
     "output_type": "execute_result"
    }
   ],
   "source": [
    "# Load best model\n",
    "best_model = joblib.load('best_model_spam_detection.pkl')\n",
    "best_model"
   ]
  },
  {
   "cell_type": "code",
   "execution_count": 34,
   "id": "39b07359",
   "metadata": {},
   "outputs": [],
   "source": [
    "# Load random text sample\n",
    "text_sample =[ '''Congratulations! You've Won a Free Vacation\n",
    "\n",
    "              Dear Valentina,\n",
    "\n",
    "              We are thrilled to inform you that you have been selected as the lucky winner of our exclusive vacation giveaway!\n",
    "              You and a companion are entitled to a luxurious 5-day, 4-night stay at a world-class resort in the Caribbean.\n",
    "\n",
    "              To claim your prize, simply click on the link below and provide us with your contact details within the next 24 hours:\n",
    "\n",
    "              But hurry, this offer is only available for a limited time! Don't miss out on this amazing opportunity to enjoy a dream vacation on us.\n",
    "\n",
    "              Best regards,\n",
    "              Vavilon Hotel''']"
   ]
  },
  {
   "cell_type": "code",
   "execution_count": 41,
   "id": "e22b79c6",
   "metadata": {},
   "outputs": [],
   "source": [
    "# Apply preprocessing steps\n",
    "preprocessed_text_sample = preprocess_text(text_sample[0])"
   ]
  },
  {
   "cell_type": "code",
   "execution_count": 44,
   "id": "113f602f",
   "metadata": {},
   "outputs": [
    {
     "data": {
      "text/plain": [
       "(1, 6589)"
      ]
     },
     "execution_count": 44,
     "metadata": {},
     "output_type": "execute_result"
    }
   ],
   "source": [
    "# Apply bow vectorizer\n",
    "preprocessed_text_sample = bow.transform([preprocessed_text_sample])\n",
    "preprocessed_text_sample.shape"
   ]
  },
  {
   "cell_type": "code",
   "execution_count": 48,
   "id": "91a4a40e",
   "metadata": {},
   "outputs": [
    {
     "name": "stdout",
     "output_type": "stream",
     "text": [
      "Probability of this message to be ham: 7.522756029221256e-08\n",
      "Probability of this message to be spam: 0.9999999247724397\n"
     ]
    }
   ],
   "source": [
    "# Predict\n",
    "y_pred = best_model.predict_proba(preprocessed_text_sample)\n",
    "print('Probability of this message to be ham:', y_pred[0][0])\n",
    "print('Probability of this message to be spam:', y_pred[0][1])"
   ]
  },
  {
   "cell_type": "markdown",
   "id": "5b642c04",
   "metadata": {},
   "source": [
    "## Final Conclusion\n",
    "\n",
    "After performing hyperparameter tuning, i have determined that the best results, based on the highest F1 score, were achieved using **Logistic Regression** with **Bag of Words** (BoW) feature extraction. The key metrics for this model are as follows:\n",
    "\n",
    "- **Accuracy Score**: 0.98\n",
    "- **F1 Score**: 0.94\n",
    "- **Recall Score**: 0.91\n",
    "- **Precision Score**: 0.98\n",
    "\n",
    "Additionally, the model's performance in terms of misclassifications is:\n",
    "\n",
    "- **False Negatives**: 14\n",
    "- **False Positives**: 3\n",
    "\n",
    "The model was also tested on a sample of text, and it correctly predicted the sample with a 0.99 probability of being spam.\n",
    "\n",
    "**Note**: The texts used in this analysis are written in everyday conversational language, with informal expressions and shorthand. This could impact the model's performance. To potentially improve results, incorporating more diverse texts and enhancing text cleaning processes may be beneficial.\n",
    "\n",
    "This indicates that Logistic Regression with BoW feature extraction offers the best balance between precision and recall for this task, making it the most effective model among those tested.\n"
   ]
  }
 ],
 "metadata": {
  "kernelspec": {
   "display_name": "Python 3 (ipykernel)",
   "language": "python",
   "name": "python3"
  },
  "language_info": {
   "codemirror_mode": {
    "name": "ipython",
    "version": 3
   },
   "file_extension": ".py",
   "mimetype": "text/x-python",
   "name": "python",
   "nbconvert_exporter": "python",
   "pygments_lexer": "ipython3",
   "version": "3.11.5"
  }
 },
 "nbformat": 4,
 "nbformat_minor": 5
}
